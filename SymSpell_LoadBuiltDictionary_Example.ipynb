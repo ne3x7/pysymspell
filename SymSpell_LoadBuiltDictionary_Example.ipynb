{
 "cells": [
  {
   "cell_type": "code",
   "execution_count": 1,
   "metadata": {},
   "outputs": [],
   "source": [
    "from symspell import SymSpell\n",
    "import time\n",
    "import json\n"
   ]
  },
  {
   "cell_type": "code",
   "execution_count": 2,
   "metadata": {},
   "outputs": [],
   "source": [
    "ss = SymSpell(max_dictionary_edit_distance=3)\n"
   ]
  },
  {
   "cell_type": "code",
   "execution_count": 3,
   "metadata": {},
   "outputs": [
    {
     "name": "stdout",
     "output_type": "stream",
     "text": [
      "Loading dictionary...\n",
      "Processing dictionary...\n",
      "Copied 82 words to master dictionary...\n",
      "Copied 801 hashes to master dictionary...\n"
     ]
    }
   ],
   "source": [
    "ss.load_comple_model_from_json(\"test_completeModel.json\",encoding=\"ISO-8859-1\")"
   ]
  },
  {
   "cell_type": "code",
   "execution_count": 4,
   "metadata": {},
   "outputs": [
    {
     "name": "stdout",
     "output_type": "stream",
     "text": [
      "infinity:606009535:1\n",
      "heavily:606009535:2\n",
      "erroring:606009535:0\n",
      "link is heavily erroring:606009535:-1\n"
     ]
    }
   ],
   "source": [
    "suggestion_list = ss.lookup(phrase='infifity', verbosity=1, max_edit_distance=2)\n",
    "for suggestion in suggestion_list:\n",
    "    print(suggestion)\n",
    "\n",
    "suggestion_list = ss.lookup(phrase='haevliy', verbosity=1, max_edit_distance=2)\n",
    "for suggestion in suggestion_list:\n",
    "    print(suggestion)\n",
    "\n",
    "suggestion_list = ss.lookup(phrase='erroring', verbosity=1, max_edit_distance=3)\n",
    "for suggestion in suggestion_list:\n",
    "    print(suggestion)\n",
    "    \n",
    "\n",
    "suggestion_list = ss.lookup_compound(phrase='Link is haevliyy errorrinng', max_edit_distance=3)\n",
    "for suggestion in suggestion_list:\n",
    "    print(suggestion)"
   ]
  }
 ],
 "metadata": {
  "kernelspec": {
   "display_name": "Python 3",
   "language": "python",
   "name": "python3"
  },
  "language_info": {
   "codemirror_mode": {
    "name": "ipython",
    "version": 3
   },
   "file_extension": ".py",
   "mimetype": "text/x-python",
   "name": "python",
   "nbconvert_exporter": "python",
   "pygments_lexer": "ipython3",
   "version": "3.6.4"
  }
 },
 "nbformat": 4,
 "nbformat_minor": 2
}
